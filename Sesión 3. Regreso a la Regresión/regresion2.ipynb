{
 "cells": [
  {
   "cell_type": "markdown",
   "metadata": {},
   "source": [
    "# Tercera sesión\n",
    "\n",
    "Recapitulación de la regresión lineal. "
   ]
  },
  {
   "cell_type": "code",
   "execution_count": 2,
   "metadata": {},
   "outputs": [
    {
     "name": "stderr",
     "output_type": "stream",
     "text": [
      "\n",
      "Attaching package: ‘dplyr’\n",
      "\n",
      "The following objects are masked from ‘package:stats’:\n",
      "\n",
      "    filter, lag\n",
      "\n",
      "The following objects are masked from ‘package:base’:\n",
      "\n",
      "    intersect, setdiff, setequal, union\n",
      "\n"
     ]
    },
    {
     "data": {
      "text/html": [
       "'/home/juve/Escritorio/Sesión 3. Regreso a la Regresión'"
      ],
      "text/latex": [
       "'/home/juve/Escritorio/Sesión 3. Regreso a la Regresión'"
      ],
      "text/markdown": [
       "'/home/juve/Escritorio/Sesión 3. Regreso a la Regresión'"
      ],
      "text/plain": [
       "[1] \"/home/juve/Escritorio/Sesión 3. Regreso a la Regresión\""
      ]
     },
     "metadata": {},
     "output_type": "display_data"
    },
    {
     "data": {
      "text/html": [
       "<table>\n",
       "<thead><tr><th scope=col>city</th><th scope=col>type</th><th scope=col>bed</th><th scope=col>bath</th><th scope=col>garage</th><th scope=col>sqft</th><th scope=col>pool</th><th scope=col>spa</th><th scope=col>price</th></tr></thead>\n",
       "<tbody>\n",
       "\t<tr><td>Long Beach</td><td>          </td><td>0         </td><td>1         </td><td>          </td><td> 513      </td><td>          </td><td>NA        </td><td>119000    </td></tr>\n",
       "\t<tr><td>Long Beach</td><td>          </td><td>0         </td><td>1         </td><td>          </td><td> 550      </td><td>          </td><td>NA        </td><td>153000    </td></tr>\n",
       "\t<tr><td>Long Beach</td><td>          </td><td>0         </td><td>1         </td><td>          </td><td> 550      </td><td>          </td><td>NA        </td><td>205000    </td></tr>\n",
       "\t<tr><td>Long Beach</td><td>          </td><td>0         </td><td>1         </td><td>1         </td><td>1030      </td><td>          </td><td>NA        </td><td>300000    </td></tr>\n",
       "\t<tr><td>Long Beach</td><td>          </td><td>0         </td><td>1         </td><td>1         </td><td>1526      </td><td>          </td><td>NA        </td><td>375000    </td></tr>\n",
       "\t<tr><td>Long Beach</td><td>          </td><td>1         </td><td>1         </td><td>          </td><td> 552      </td><td>          </td><td>NA        </td><td>159900    </td></tr>\n",
       "</tbody>\n",
       "</table>\n"
      ],
      "text/latex": [
       "\\begin{tabular}{r|lllllllll}\n",
       " city & type & bed & bath & garage & sqft & pool & spa & price\\\\\n",
       "\\hline\n",
       "\t Long Beach &            & 0          & 1          &            &  513       &            & NA         & 119000    \\\\\n",
       "\t Long Beach &            & 0          & 1          &            &  550       &            & NA         & 153000    \\\\\n",
       "\t Long Beach &            & 0          & 1          &            &  550       &            & NA         & 205000    \\\\\n",
       "\t Long Beach &            & 0          & 1          & 1          & 1030       &            & NA         & 300000    \\\\\n",
       "\t Long Beach &            & 0          & 1          & 1          & 1526       &            & NA         & 375000    \\\\\n",
       "\t Long Beach &            & 1          & 1          &            &  552       &            & NA         & 159900    \\\\\n",
       "\\end{tabular}\n"
      ],
      "text/markdown": [
       "\n",
       "city | type | bed | bath | garage | sqft | pool | spa | price | \n",
       "|---|---|---|---|---|---|\n",
       "| Long Beach |            | 0          | 1          |            |  513       |            | NA         | 119000     | \n",
       "| Long Beach |            | 0          | 1          |            |  550       |            | NA         | 153000     | \n",
       "| Long Beach |            | 0          | 1          |            |  550       |            | NA         | 205000     | \n",
       "| Long Beach |            | 0          | 1          | 1          | 1030       |            | NA         | 300000     | \n",
       "| Long Beach |            | 0          | 1          | 1          | 1526       |            | NA         | 375000     | \n",
       "| Long Beach |            | 1          | 1          |            |  552       |            | NA         | 159900     | \n",
       "\n",
       "\n"
      ],
      "text/plain": [
       "  city       type bed bath garage sqft pool spa price \n",
       "1 Long Beach      0   1            513      NA  119000\n",
       "2 Long Beach      0   1            550      NA  153000\n",
       "3 Long Beach      0   1            550      NA  205000\n",
       "4 Long Beach      0   1    1      1030      NA  300000\n",
       "5 Long Beach      0   1    1      1526      NA  375000\n",
       "6 Long Beach      1   1            552      NA  159900"
      ]
     },
     "metadata": {},
     "output_type": "display_data"
    }
   ],
   "source": [
    "# Librerias\n",
    "library(dplyr)\n",
    "library(ggplot2)\n",
    "\n",
    "getwd()\n",
    "\n",
    "# 1. Abrimos las bases\n",
    "LAhomes <- read.csv(\"BDs/LAhomes.csv\")\n",
    "\n",
    "# Exploramos contenido\n",
    "head(LAhomes)"
   ]
  },
  {
   "cell_type": "code",
   "execution_count": 3,
   "metadata": {},
   "outputs": [
    {
     "data": {
      "text/html": [
       "<dl>\n",
       "\t<dt>$city</dt>\n",
       "\t\t<dd>'factor'</dd>\n",
       "\t<dt>$type</dt>\n",
       "\t\t<dd>'factor'</dd>\n",
       "\t<dt>$bed</dt>\n",
       "\t\t<dd>'integer'</dd>\n",
       "\t<dt>$bath</dt>\n",
       "\t\t<dd>'numeric'</dd>\n",
       "\t<dt>$garage</dt>\n",
       "\t\t<dd>'factor'</dd>\n",
       "\t<dt>$sqft</dt>\n",
       "\t\t<dd>'integer'</dd>\n",
       "\t<dt>$pool</dt>\n",
       "\t\t<dd>'factor'</dd>\n",
       "\t<dt>$spa</dt>\n",
       "\t\t<dd>'logical'</dd>\n",
       "\t<dt>$price</dt>\n",
       "\t\t<dd>'numeric'</dd>\n",
       "</dl>\n"
      ],
      "text/latex": [
       "\\begin{description}\n",
       "\\item[\\$city] 'factor'\n",
       "\\item[\\$type] 'factor'\n",
       "\\item[\\$bed] 'integer'\n",
       "\\item[\\$bath] 'numeric'\n",
       "\\item[\\$garage] 'factor'\n",
       "\\item[\\$sqft] 'integer'\n",
       "\\item[\\$pool] 'factor'\n",
       "\\item[\\$spa] 'logical'\n",
       "\\item[\\$price] 'numeric'\n",
       "\\end{description}\n"
      ],
      "text/markdown": [
       "$city\n",
       ":   'factor'\n",
       "$type\n",
       ":   'factor'\n",
       "$bed\n",
       ":   'integer'\n",
       "$bath\n",
       ":   'numeric'\n",
       "$garage\n",
       ":   'factor'\n",
       "$sqft\n",
       ":   'integer'\n",
       "$pool\n",
       ":   'factor'\n",
       "$spa\n",
       ":   'logical'\n",
       "$price\n",
       ":   'numeric'\n",
       "\n",
       "\n"
      ],
      "text/plain": [
       "$city\n",
       "[1] \"factor\"\n",
       "\n",
       "$type\n",
       "[1] \"factor\"\n",
       "\n",
       "$bed\n",
       "[1] \"integer\"\n",
       "\n",
       "$bath\n",
       "[1] \"numeric\"\n",
       "\n",
       "$garage\n",
       "[1] \"factor\"\n",
       "\n",
       "$sqft\n",
       "[1] \"integer\"\n",
       "\n",
       "$pool\n",
       "[1] \"factor\"\n",
       "\n",
       "$spa\n",
       "[1] \"logical\"\n",
       "\n",
       "$price\n",
       "[1] \"numeric\"\n"
      ]
     },
     "metadata": {},
     "output_type": "display_data"
    },
    {
     "name": "stdout",
     "output_type": "stream",
     "text": [
      "\n",
      "Call:\n",
      "lm(formula = fmla, data = LAhomes)\n",
      "\n",
      "Coefficients:\n",
      "(Intercept)         sqft  \n",
      "   -1661892         1486  \n",
      "\n"
     ]
    },
    {
     "data": {
      "text/plain": [
       "\n",
       "Call:\n",
       "lm(formula = fmla, data = LAhomes)\n",
       "\n",
       "Residuals:\n",
       "     Min       1Q   Median       3Q      Max \n",
       "-7732777  -363898   246242   601763 50004033 \n",
       "\n",
       "Coefficients:\n",
       "              Estimate Std. Error t value Pr(>|t|)    \n",
       "(Intercept) -1.662e+06  6.446e+04  -25.78   <2e-16 ***\n",
       "sqft         1.486e+03  2.271e+01   65.44   <2e-16 ***\n",
       "---\n",
       "Signif. codes:  0 ‘***’ 0.001 ‘**’ 0.01 ‘*’ 0.05 ‘.’ 0.1 ‘ ’ 1\n",
       "\n",
       "Residual standard error: 1859000 on 1592 degrees of freedom\n",
       "Multiple R-squared:  0.729,\tAdjusted R-squared:  0.7288 \n",
       "F-statistic:  4282 on 1 and 1592 DF,  p-value: < 2.2e-16\n"
      ]
     },
     "metadata": {},
     "output_type": "display_data"
    },
    {
     "data": {},
     "metadata": {},
     "output_type": "display_data"
    },
    {
     "data": {
      "image/png": "[encoded data removed]",
      "text/plain": [
       "plot without title"
      ]
     },
     "metadata": {},
     "output_type": "display_data"
    }
   ],
   "source": [
    "#################################\n",
    "# 1. Precio de las casas en LA. #\n",
    "#################################\n",
    "\n",
    "# 0. Exploramos los datos: \n",
    "lapply(LAhomes, class)\n",
    "\n",
    "# 1. Determinamos la formula\n",
    "fmla <- price ~ sqft\n",
    "#fmla <- price ~ aleat\n",
    "\n",
    "# 2. Aplicamos el modelo\n",
    "model <- lm(fmla, LAhomes)\n",
    "print(model)\n",
    "\n",
    "# 3. Checamos mayor informaci'on del modelo\n",
    "summary(model)\n",
    "\n",
    "# 4. Prediction \n",
    "LAhomes$pred1 <- predict(model)\n",
    "\n",
    "# 5. Graficamos\n",
    "ggplot(LAhomes, \n",
    "       aes(x = sqft, y = price)) + \n",
    "  geom_point() + \n",
    "  geom_line(aes(x = sqft, y = pred1), colour = \"blue\") + \n",
    "  theme_bw()   # Fondo blanco con rayas grises\n",
    "\n",
    "# Preguntas... que tan buena es esta regresipn para explicar el precio de la vivienda?\n"
   ]
  },
  {
   "cell_type": "code",
   "execution_count": 4,
   "metadata": {},
   "outputs": [
    {
     "data": {
      "text/html": [
       "<table>\n",
       "<thead><tr><th scope=col>deathRate</th><th scope=col>doctorAvailability</th><th scope=col>hospitalAvailability</th><th scope=col>annualPerCapitaIncome</th><th scope=col>populationDensity</th></tr></thead>\n",
       "<tbody>\n",
       "\t<tr><td> 8,0</td><td> 78 </td><td> 284</td><td> 9,1</td><td>109 </td></tr>\n",
       "\t<tr><td> 9,3</td><td> 68 </td><td> 433</td><td> 8,7</td><td>144 </td></tr>\n",
       "\t<tr><td> 7,5</td><td> 70 </td><td> 739</td><td> 7,2</td><td>113 </td></tr>\n",
       "\t<tr><td> 8,9</td><td> 96 </td><td>1792</td><td> 8,9</td><td> 97 </td></tr>\n",
       "\t<tr><td>10,2</td><td> 74 </td><td> 477</td><td> 8,3</td><td>206 </td></tr>\n",
       "\t<tr><td> 8,3</td><td>111 </td><td> 362</td><td>10,9</td><td>124 </td></tr>\n",
       "</tbody>\n",
       "</table>\n"
      ],
      "text/latex": [
       "\\begin{tabular}{r|lllll}\n",
       " deathRate & doctorAvailability & hospitalAvailability & annualPerCapitaIncome & populationDensity\\\\\n",
       "\\hline\n",
       "\t  8,0 &  78  &  284 &  9,1 & 109 \\\\\n",
       "\t  9,3 &  68  &  433 &  8,7 & 144 \\\\\n",
       "\t  7,5 &  70  &  739 &  7,2 & 113 \\\\\n",
       "\t  8,9 &  96  & 1792 &  8,9 &  97 \\\\\n",
       "\t 10,2 &  74  &  477 &  8,3 & 206 \\\\\n",
       "\t  8,3 & 111  &  362 & 10,9 & 124 \\\\\n",
       "\\end{tabular}\n"
      ],
      "text/markdown": [
       "\n",
       "deathRate | doctorAvailability | hospitalAvailability | annualPerCapitaIncome | populationDensity | \n",
       "|---|---|---|---|---|---|\n",
       "|  8,0 |  78  |  284 |  9,1 | 109  | \n",
       "|  9,3 |  68  |  433 |  8,7 | 144  | \n",
       "|  7,5 |  70  |  739 |  7,2 | 113  | \n",
       "|  8,9 |  96  | 1792 |  8,9 |  97  | \n",
       "| 10,2 |  74  |  477 |  8,3 | 206  | \n",
       "|  8,3 | 111  |  362 | 10,9 | 124  | \n",
       "\n",
       "\n"
      ],
      "text/plain": [
       "  deathRate doctorAvailability hospitalAvailability annualPerCapitaIncome\n",
       "1  8,0       78                 284                  9,1                 \n",
       "2  9,3       68                 433                  8,7                 \n",
       "3  7,5       70                 739                  7,2                 \n",
       "4  8,9       96                1792                  8,9                 \n",
       "5 10,2       74                 477                  8,3                 \n",
       "6  8,3      111                 362                 10,9                 \n",
       "  populationDensity\n",
       "1 109              \n",
       "2 144              \n",
       "3 113              \n",
       "4  97              \n",
       "5 206              \n",
       "6 124              "
      ]
     },
     "metadata": {},
     "output_type": "display_data"
    }
   ],
   "source": [
    "##########################\n",
    "# 2. Tasa de Mortalidad  #\n",
    "##########################\n",
    "\n",
    "# 1. Abrimos la base\n",
    "health <- readxl::read_xls(\"BDs/health.xls\")\n",
    "\n",
    "# 2. Exploramos los datos\n",
    "head(health)\n",
    "\n"
   ]
  },
  {
   "cell_type": "code",
   "execution_count": 7,
   "metadata": {},
   "outputs": [
    {
     "data": {
      "text/html": [
       "<dl>\n",
       "\t<dt>$deathRate</dt>\n",
       "\t\t<dd>'numeric'</dd>\n",
       "\t<dt>$doctorAvailability</dt>\n",
       "\t\t<dd>'numeric'</dd>\n",
       "\t<dt>$hospitalAvailability</dt>\n",
       "\t\t<dd>'numeric'</dd>\n",
       "\t<dt>$annualPerCapitaIncome</dt>\n",
       "\t\t<dd>'numeric'</dd>\n",
       "\t<dt>$populationDensity</dt>\n",
       "\t\t<dd>'numeric'</dd>\n",
       "\t<dt>$pred1</dt>\n",
       "\t\t<dd>'numeric'</dd>\n",
       "\t<dt>$pred2</dt>\n",
       "\t\t<dd>'numeric'</dd>\n",
       "\t<dt>$pred3</dt>\n",
       "\t\t<dd>'numeric'</dd>\n",
       "\t<dt>$pred4</dt>\n",
       "\t\t<dd>'numeric'</dd>\n",
       "\t<dt>$pred5</dt>\n",
       "\t\t<dd>'numeric'</dd>\n",
       "</dl>\n"
      ],
      "text/latex": [
       "\\begin{description}\n",
       "\\item[\\$deathRate] 'numeric'\n",
       "\\item[\\$doctorAvailability] 'numeric'\n",
       "\\item[\\$hospitalAvailability] 'numeric'\n",
       "\\item[\\$annualPerCapitaIncome] 'numeric'\n",
       "\\item[\\$populationDensity] 'numeric'\n",
       "\\item[\\$pred1] 'numeric'\n",
       "\\item[\\$pred2] 'numeric'\n",
       "\\item[\\$pred3] 'numeric'\n",
       "\\item[\\$pred4] 'numeric'\n",
       "\\item[\\$pred5] 'numeric'\n",
       "\\end{description}\n"
      ],
      "text/markdown": [
       "$deathRate\n",
       ":   'numeric'\n",
       "$doctorAvailability\n",
       ":   'numeric'\n",
       "$hospitalAvailability\n",
       ":   'numeric'\n",
       "$annualPerCapitaIncome\n",
       ":   'numeric'\n",
       "$populationDensity\n",
       ":   'numeric'\n",
       "$pred1\n",
       ":   'numeric'\n",
       "$pred2\n",
       ":   'numeric'\n",
       "$pred3\n",
       ":   'numeric'\n",
       "$pred4\n",
       ":   'numeric'\n",
       "$pred5\n",
       ":   'numeric'\n",
       "\n",
       "\n"
      ],
      "text/plain": [
       "$deathRate\n",
       "[1] \"numeric\"\n",
       "\n",
       "$doctorAvailability\n",
       "[1] \"numeric\"\n",
       "\n",
       "$hospitalAvailability\n",
       "[1] \"numeric\"\n",
       "\n",
       "$annualPerCapitaIncome\n",
       "[1] \"numeric\"\n",
       "\n",
       "$populationDensity\n",
       "[1] \"numeric\"\n",
       "\n",
       "$pred1\n",
       "[1] \"numeric\"\n",
       "\n",
       "$pred2\n",
       "[1] \"numeric\"\n",
       "\n",
       "$pred3\n",
       "[1] \"numeric\"\n",
       "\n",
       "$pred4\n",
       "[1] \"numeric\"\n",
       "\n",
       "$pred5\n",
       "[1] \"numeric\"\n"
      ]
     },
     "metadata": {},
     "output_type": "display_data"
    }
   ],
   "source": [
    "lapply(health, class)\n",
    "\n",
    "# 3. Creamos el modelo\n",
    "fmla1 <- deathRate ~ doctorAvailability\n",
    "fmla2 <- deathRate ~ hospitalAvailability\n",
    "fmla3 <- deathRate ~ annualPerCapitaIncome\n",
    "fmla4 <- deathRate ~ populationDensity\n",
    "fmla5 <- deathRate ~ populationDensity + annualPerCapitaIncome + hospitalAvailability + doctorAvailability\n"
   ]
  },
  {
   "cell_type": "code",
   "execution_count": 8,
   "metadata": {},
   "outputs": [
    {
     "name": "stderr",
     "output_type": "stream",
     "text": [
      "Warning message in printCoefmat(coefs, digits = digits, signif.stars = signif.stars, :\n",
      "“NAs introducidos por coerción”"
     ]
    },
    {
     "data": {
      "text/plain": [
       "\n",
       "Call:\n",
       "lm(formula = fmla1, data = health)\n",
       "\n",
       "Residuals:\n",
       "    Min      1Q  Median      3Q     Max \n",
       "-5,5426 -0,9798  0,2387  0,9751  3,7387 \n",
       "\n",
       "Coefficients:\n",
       "                   Estimate Std. Error t value Pr(>|t|)    \n",
       "(Intercept)        8,715905   0,744665  11,704 4,61e-16 ***\n",
       "doctorAvailability 0,005080   0,006103   0,832    0,409    \n",
       "---\n",
       "Signif. codes:  0 ‘***’ 0,001 ‘**’ 0,01 ‘*’ 0,05 ‘.’ 0,1 ‘ ’ 1\n",
       "\n",
       "Residual standard error: 1,667 on 51 degrees of freedom\n",
       "Multiple R-squared:  0,0134,\tAdjusted R-squared:  -0,005944 \n",
       "F-statistic: 0,6928 on 1 and 51 DF,  p-value: 0,4091\n"
      ]
     },
     "metadata": {},
     "output_type": "display_data"
    },
    {
     "name": "stderr",
     "output_type": "stream",
     "text": [
      "Warning message in printCoefmat(coefs, digits = digits, signif.stars = signif.stars, :\n",
      "“NAs introducidos por coerción”"
     ]
    },
    {
     "data": {
      "text/plain": [
       "\n",
       "Call:\n",
       "lm(formula = fmla2, data = health)\n",
       "\n",
       "Residuals:\n",
       "    Min      1Q  Median      3Q     Max \n",
       "-5,5388 -0,9366  0,0217  0,9567  3,6086 \n",
       "\n",
       "Coefficients:\n",
       "                      Estimate Std. Error t value Pr(>|t|)    \n",
       "(Intercept)          8,9796442  0,4699376  19,108   <2e-16 ***\n",
       "hospitalAvailability 0,0005528  0,0006956   0,795    0,431    \n",
       "---\n",
       "Signif. codes:  0 ‘***’ 0,001 ‘**’ 0,01 ‘*’ 0,05 ‘.’ 0,1 ‘ ’ 1\n",
       "\n",
       "Residual standard error: 1,668 on 51 degrees of freedom\n",
       "Multiple R-squared:  0,01223,\tAdjusted R-squared:  -0,007138 \n",
       "F-statistic: 0,6315 on 1 and 51 DF,  p-value: 0,4305\n"
      ]
     },
     "metadata": {},
     "output_type": "display_data"
    },
    {
     "name": "stderr",
     "output_type": "stream",
     "text": [
      "Warning message in printCoefmat(coefs, digits = digits, signif.stars = signif.stars, :\n",
      "“NAs introducidos por coerción”"
     ]
    },
    {
     "data": {
      "text/plain": [
       "\n",
       "Call:\n",
       "lm(formula = fmla3, data = health)\n",
       "\n",
       "Residuals:\n",
       "    Min      1Q  Median      3Q     Max \n",
       "-5,9811 -0,8620  0,2975  1,1987  2,9530 \n",
       "\n",
       "Coefficients:\n",
       "                      Estimate Std. Error t value Pr(>|t|)    \n",
       "(Intercept)            11,8145     2,0249   5,835 3,72e-07 ***\n",
       "annualPerCapitaIncome  -0,2659     0,2132  -1,247    0,218    \n",
       "---\n",
       "Signif. codes:  0 ‘***’ 0,001 ‘**’ 0,01 ‘*’ 0,05 ‘.’ 0,1 ‘ ’ 1\n",
       "\n",
       "Residual standard error: 1,654 on 51 degrees of freedom\n",
       "Multiple R-squared:  0,02958,\tAdjusted R-squared:  0,01055 \n",
       "F-statistic: 1,555 on 1 and 51 DF,  p-value: 0,2181\n"
      ]
     },
     "metadata": {},
     "output_type": "display_data"
    },
    {
     "name": "stderr",
     "output_type": "stream",
     "text": [
      "Warning message in printCoefmat(coefs, digits = digits, signif.stars = signif.stars, :\n",
      "“NAs introducidos por coerción”"
     ]
    },
    {
     "data": {
      "text/plain": [
       "\n",
       "Call:\n",
       "lm(formula = fmla4, data = health)\n",
       "\n",
       "Residuals:\n",
       "    Min      1Q  Median      3Q     Max \n",
       "-5,7119 -1,0315  0,1011  1,0413  2,9696 \n",
       "\n",
       "Coefficients:\n",
       "                   Estimate Std. Error t value Pr(>|t|)    \n",
       "(Intercept)       10,387997   0,569350  18,245   <2e-16 ***\n",
       "populationDensity -0,009782   0,004740  -2,064   0,0442 *  \n",
       "---\n",
       "Signif. codes:  0 ‘***’ 0,001 ‘**’ 0,01 ‘*’ 0,05 ‘.’ 0,1 ‘ ’ 1\n",
       "\n",
       "Residual standard error: 1,613 on 51 degrees of freedom\n",
       "Multiple R-squared:  0,07707,\tAdjusted R-squared:  0,05897 \n",
       "F-statistic: 4,259 on 1 and 51 DF,  p-value: 0,04416\n"
      ]
     },
     "metadata": {},
     "output_type": "display_data"
    },
    {
     "name": "stderr",
     "output_type": "stream",
     "text": [
      "Warning message in printCoefmat(coefs, digits = digits, signif.stars = signif.stars, :\n",
      "“NAs introducidos por coerción”"
     ]
    },
    {
     "data": {
      "text/plain": [
       "\n",
       "Call:\n",
       "lm(formula = fmla5, data = health)\n",
       "\n",
       "Residuals:\n",
       "    Min      1Q  Median      3Q     Max \n",
       "-5,6404 -0,7904  0,3053  0,9164  2,7906 \n",
       "\n",
       "Coefficients:\n",
       "                        Estimate Std. Error t value Pr(>|t|)    \n",
       "(Intercept)           12,2662552  2,0201467   6,072 1,95e-07 ***\n",
       "populationDensity     -0,0094629  0,0048868  -1,936   0,0587 .  \n",
       "annualPerCapitaIncome -0,3302302  0,2345518  -1,408   0,1656    \n",
       "hospitalAvailability   0,0005837  0,0007219   0,809   0,4228    \n",
       "doctorAvailability     0,0073916  0,0069336   1,066   0,2917    \n",
       "---\n",
       "Signif. codes:  0 ‘***’ 0,001 ‘**’ 0,01 ‘*’ 0,05 ‘.’ 0,1 ‘ ’ 1\n",
       "\n",
       "Residual standard error: 1,601 on 48 degrees of freedom\n",
       "Multiple R-squared:  0,1437,\tAdjusted R-squared:  0,07235 \n",
       "F-statistic: 2,014 on 4 and 48 DF,  p-value: 0,1075\n"
      ]
     },
     "metadata": {},
     "output_type": "display_data"
    }
   ],
   "source": [
    "# 4. Hacemos las regresiones\n",
    "\n",
    "model1 <- lm(fmla1, health) \n",
    "summary(model1)\n",
    "\n",
    "model2 <- lm(fmla2, health) \n",
    "summary(model2)\n",
    "\n",
    "model3 <- lm(fmla3, health) \n",
    "summary(model3)\n",
    "\n",
    "model4 <- lm(fmla4, health) \n",
    "summary(model4)\n",
    "\n",
    "model5 <- lm(fmla5, health)\n",
    "summary(model5)\n",
    "\n",
    "# 5. Prediccion \n",
    "health$pred1 <- predict(model1)\n",
    "health$pred2 <- predict(model2)\n",
    "health$pred3 <- predict(model3)\n",
    "health$pred4 <- predict(model4)\n",
    "health$pred5 <- predict(model5)\n"
   ]
  },
  {
   "cell_type": "code",
   "execution_count": 9,
   "metadata": {},
   "outputs": [
    {
     "data": {},
     "metadata": {},
     "output_type": "display_data"
    },
    {
     "data": {},
     "metadata": {},
     "output_type": "display_data"
    },
    {
     "data": {
      "image/png": "[encoded data removed]",
      "text/plain": [
       "plot without title"
      ]
     },
     "metadata": {},
     "output_type": "display_data"
    },
    {
     "data": {
      "image/png": "[encoded data removed]",
      "text/plain": [
       "plot without title"
      ]
     },
     "metadata": {},
     "output_type": "display_data"
    }
   ],
   "source": [
    "# 6. Grafica\n",
    "\n",
    "# Sobre popDensity, la mas significativa\n",
    "ggplot(health, \n",
    "       aes(x = populationDensity, y = deathRate)) + \n",
    "  geom_point() + \n",
    "  geom_line(aes(x = populationDensity, y = pred4), colour = \"blue\") + \n",
    "  theme_bw()   # Fondo blanco con rayas grises\n",
    "\n",
    "# Sobre DoctorAvailability\n",
    "ggplot(health, \n",
    "       aes(x = doctorAvailability, y = deathRate)) + \n",
    "  geom_point() + \n",
    "  geom_line(aes(x = doctorAvailability, y = pred1), colour = \"blue\") + \n",
    "  theme_bw()   # Fondo blanco con rayas grises\n",
    "\n",
    "# COmo podemos ver, en este caso el modelo casi no predice nada. \n",
    "# Y es por esto que esta variable no es significante."
   ]
  },
  {
   "cell_type": "code",
   "execution_count": null,
   "metadata": {},
   "outputs": [],
   "source": []
  }
 ],
 "metadata": {
  "kernelspec": {
   "display_name": "R",
   "language": "R",
   "name": "ir"
  },
  "language_info": {
   "codemirror_mode": "r",
   "file_extension": ".r",
   "mimetype": "text/x-r-source",
   "name": "R",
   "pygments_lexer": "r",
   "version": "3.5.1"
  }
 },
 "nbformat": 4,
 "nbformat_minor": 2
}
